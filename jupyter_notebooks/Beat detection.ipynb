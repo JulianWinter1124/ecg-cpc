version https://git-lfs.github.com/spec/v1
oid sha256:3c1df30f3be83ad9fb1d9509c4478b50d467f83781d868ce2aca4100cf3b86fd
size 5316922
