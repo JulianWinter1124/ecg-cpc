version https://git-lfs.github.com/spec/v1
oid sha256:71df576176eb1bb13aac1a3cd101c3bd6e434ff112f7458ddb26784784fc8fc8
size 11550214
