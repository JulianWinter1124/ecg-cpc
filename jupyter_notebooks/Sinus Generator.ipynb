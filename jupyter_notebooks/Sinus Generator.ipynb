version https://git-lfs.github.com/spec/v1
oid sha256:9c4752abcd6cb9a813d1e64a5ec9931908f6715192b01a1a26ec8339f0787710
size 333965
