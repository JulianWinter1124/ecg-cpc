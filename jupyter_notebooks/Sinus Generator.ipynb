version https://git-lfs.github.com/spec/v1
oid sha256:4160d5e3b749ddf90c1e1b72d67ecafa38c745b0d0bbe14c13f2bcccd20a286c
size 337618
