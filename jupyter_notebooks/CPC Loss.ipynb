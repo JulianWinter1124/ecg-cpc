version https://git-lfs.github.com/spec/v1
oid sha256:fd2d119eb2c31abd18928ce01068b83c708896bacd7cb85c27a71b8ae63a45e5
size 2553110
